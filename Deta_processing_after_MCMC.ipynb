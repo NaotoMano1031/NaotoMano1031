{
  "nbformat": 4,
  "nbformat_minor": 0,
  "metadata": {
    "colab": {
      "name": "Untitled1.ipynb",
      "provenance": [],
      "collapsed_sections": [],
      "authorship_tag": "ABX9TyOT+IxT+i57xvXIhMQmUqwd",
      "include_colab_link": true
    },
    "kernelspec": {
      "name": "python3",
      "display_name": "Python 3"
    },
    "language_info": {
      "name": "python"
    }
  },
  "cells": [
    {
      "cell_type": "markdown",
      "metadata": {
        "id": "view-in-github",
        "colab_type": "text"
      },
      "source": [
        "<a href=\"https://colab.research.google.com/github/NaotoMano1031/NaotoMano1031/blob/main/Deta_processing_after_MCMC.ipynb\" target=\"_parent\"><img src=\"https://colab.research.google.com/assets/colab-badge.svg\" alt=\"Open In Colab\"/></a>"
      ]
    },
    {
      "cell_type": "markdown",
      "metadata": {
        "id": "4sXeYoGmR3gH"
      },
      "source": [
        "#MCMC後のデータ前処理"
      ]
    },
    {
      "cell_type": "markdown",
      "metadata": {
        "id": "SZ-iLRiKR5N0"
      },
      "source": [
        "# #Usedparam10をファイルでアップロード後に一列に配列\n",
        "選択回数の多いパラメータを抽出\n"
      ]
    },
    {
      "cell_type": "code",
      "metadata": {
        "colab": {
          "base_uri": "https://localhost:8080/"
        },
        "id": "rrxxsUPo90Vg",
        "outputId": "21c708bf-9a84-40de-890d-60e694c8f957"
      },
      "source": [
        "import pandas as pd\n",
        "import numpy as np\n",
        "\n",
        "df1 = pd.read_csv(\"#UsedParam10.csv\")\n",
        "col = df1.shape[1]\n",
        "df2 = pd.melt(df1)\n",
        "df2.columns = [\"columns\",\"select_param\"]\n",
        "df3 = df2[\"select_param\"]\n",
        "\n",
        "print(df3)\n",
        "\n",
        "import collections\n",
        "c =  collections.Counter(df3)\n",
        "print(c.most_common(col))"
      ],
      "execution_count": 26,
      "outputs": [
        {
          "output_type": "stream",
          "name": "stdout",
          "text": [
            "0         4\n",
            "1         5\n",
            "2        41\n",
            "3         7\n",
            "4         6\n",
            "       ... \n",
            "4985    379\n",
            "4986    327\n",
            "4987    298\n",
            "4988    378\n",
            "4989    294\n",
            "Name: select_param, Length: 4990, dtype: int64\n",
            "[(182, 98), (152, 91), (216, 56), (27, 46), (262, 41), (22, 39), (196, 37), (224, 37), (60, 32), (230, 32)]\n"
          ]
        }
      ]
    },
    {
      "cell_type": "markdown",
      "metadata": {
        "id": "lmdDZJ8CZelu"
      },
      "source": [
        "# 選択回数の多いパラメータとGait Sampleのシートを作成\n"
      ]
    },
    {
      "cell_type": "code",
      "metadata": {
        "colab": {
          "base_uri": "https://localhost:8080/"
        },
        "id": "jwHv8KmFN0Dg",
        "outputId": "18244dec-c394-43c2-f8f4-cc7cfbe721ce"
      },
      "source": [
        "gs = pd.read_csv(\"GAIT_Sample.csv\")\n",
        "op = pd.read_csv(\"original_pacient.csv\")\n",
        "print(gs)\n",
        "print(op)\n"
      ],
      "execution_count": 27,
      "outputs": [
        {
          "output_type": "stream",
          "name": "stdout",
          "text": [
            "   Unnamed: 0  id=0040711417  id=10236354  ...  id=8851575  id=8853485  id=8936583\n",
            "0  gait speed      99.298225    87.008238  ...  116.094538   97.211237   82.233883\n",
            "\n",
            "[1 rows x 81 columns]\n",
            "     Unnamed: 0  id=0040711417  id=10236354  ...  id=8851575  id=8853485  id=8936583\n",
            "0             0        26.7934      20.7643  ...     23.1289     22.7131     40.7682\n",
            "1             1         0.4897      -4.6973  ...     -0.5505      0.9800     -1.3509\n",
            "2             2        71.0127      57.8213  ...     61.5958     58.4341     74.0809\n",
            "3             3        -1.0851      -3.8153  ...     -4.7525     -0.0477     -4.1061\n",
            "4             4         1.6707      -1.3508  ...      5.5256      6.8497      0.6294\n",
            "..          ...            ...          ...  ...         ...         ...         ...\n",
            "381         381         6.9858       1.4606  ...      5.3168     -7.2460      2.8045\n",
            "382         382       -11.0734       3.4940  ...     -8.1038     -8.6140    -11.8910\n",
            "383         383        -0.1834      -0.3690  ...     -0.4941      0.0411      1.1436\n",
            "384         384         1.0940       1.1389  ...      1.0109      0.3001     -0.7563\n",
            "385         385        -1.8531      -1.1795  ...      4.6117      3.8129      1.5527\n",
            "\n",
            "[386 rows x 81 columns]\n"
          ]
        }
      ]
    },
    {
      "cell_type": "markdown",
      "metadata": {
        "id": "29FuRWpDbR72"
      },
      "source": [
        "# 新しいセクション"
      ]
    }
  ]
}
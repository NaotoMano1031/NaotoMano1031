{
  "nbformat": 4,
  "nbformat_minor": 0,
  "metadata": {
    "kernelspec": {
      "display_name": "Python 3",
      "language": "python",
      "name": "python3"
    },
    "language_info": {
      "codemirror_mode": {
        "name": "ipython",
        "version": 3
      },
      "file_extension": ".py",
      "mimetype": "text/x-python",
      "name": "python",
      "nbconvert_exporter": "python",
      "pygments_lexer": "ipython3",
      "version": "3.7.6"
    },
    "colab": {
      "name": "DataProcessingGRF.ipynb",
      "provenance": [],
      "include_colab_link": true
    }
  },
  "cells": [
    {
      "cell_type": "markdown",
      "metadata": {
        "id": "view-in-github",
        "colab_type": "text"
      },
      "source": [
        "<a href=\"https://colab.research.google.com/github/NaotoMano1031/NaotoMano1031/blob/main/DataProcessingGRF.ipynb\" target=\"_parent\"><img src=\"https://colab.research.google.com/assets/colab-badge.svg\" alt=\"Open In Colab\"/></a>"
      ]
    },
    {
      "cell_type": "markdown",
      "metadata": {
        "id": "Uh7k9Wu4bx7b"
      },
      "source": [
        "#GAIT_Sample作成のための床反力データの抽出\n",
        "\n",
        "事前準備:reportというフォルダに必要なファイルが全て入っているようにする\n",
        "\n",
        "参考サイト:https://note.nkmk.me/\n",
        "\n"
      ]
    },
    {
      "cell_type": "markdown",
      "metadata": {
        "id": "LrShi2jYcQSV"
      },
      "source": [
        "Step 1 ファイルの抽出\n"
      ]
    },
    {
      "cell_type": "code",
      "metadata": {
        "colab": {
          "base_uri": "https://localhost:8080/"
        },
        "id": "IVCmCMvUbwoV",
        "outputId": "2c0e817e-1aa8-4051-eab9-fc1bffa1d08b"
      },
      "source": [
        "import glob\n",
        "import os\n",
        "import pandas as pd\n",
        "\n",
        "#読み込みたいフォルダのディレクトリを指定\n",
        "excel_files = glob.glob('/content/report/*.xlsx')\n",
        "print(excel_files)\n",
        "\n",
        "#読み込みたいシート名を選択\n",
        "for b in excel_files:\n",
        "    excel_df = pd.read_excel(b,sheet_name='GSD')#明示的に\n",
        "    excel_df.to_csv(f'{b}.csv',header=False) \n",
        "\n",
        "    \n",
        "files = glob.glob('report/*.csv')\n",
        "print(files)"
      ],
      "execution_count": 23,
      "outputs": [
        {
          "output_type": "stream",
          "name": "stdout",
          "text": [
            "['/content/report/1-6.xlsx']\n",
            "['report/1-6.xlsx.csv']\n"
          ]
        }
      ]
    },
    {
      "cell_type": "markdown",
      "metadata": {
        "id": "R2vpwn6hqgmF"
      },
      "source": [
        "Step 2 必要な値の計算と抽出"
      ]
    },
    {
      "cell_type": "code",
      "metadata": {
        "colab": {
          "base_uri": "https://localhost:8080/"
        },
        "id": "-fqvre4RYtmK",
        "outputId": "c7f3cd52-df56-4890-a053-71676ff3e286"
      },
      "source": [
        "\n",
        "data_list = []\n",
        "left_list = []\n",
        "right_list = []\n",
        "\n",
        "for a in files:\n",
        "    df = pd.read_csv(a)\n",
        "    df['filename'] = os.path.basename(a)\n",
        "    data_list.append(df)\n",
        "    print(df)\n",
        "    \n",
        "    #Braking and AP impulse算出用(立脚期全体を抽出)\n",
        "    #1行目が揃っていないデータがあればエラーが出ます\n",
        "    left = pd.DataFrame(df.loc[0:100, ['nt(%)','左Fz(Ave)','左Fx(Ave)']]).astype('float64')\\\n",
        "    .rename(columns= {'nt(%)': 'GC','左Fz(Ave)':'LtFz','左Fx(Ave)':'LtFx'})\n",
        "\n",
        "    right = pd.DataFrame(df.loc[103:203, ['nt(%)','右Fz(Ave)','右Fx(Ave)']]).astype('float64')\\\n",
        "    .rename(columns= {'nt(%)': 'GC','右Fz(Ave)':'RtFz','右Fx(Ave)':'RtFx'})\n",
        "    \n",
        "    left = left.query('-1 < GC < 101 ')\n",
        "    right = right.query('-1 < GC < 101 ')\n",
        "    \n",
        "    #Mean and Peak Propulsion算出用(立脚期0-20%を除去)\n",
        "    left2 = left.query('19 < GC < 101 ').rename(columns= {'LtFz':'LtFz2','LtFx':'LtFx2'})\n",
        "    right2 = right.query('19 < GC < 101 ').rename(columns= {'RtFz':'RtFz2','RtFx':'RtFx2'})\n",
        "\n",
        "    #Mean Fz,Peak Braking,Fzを算出\n",
        "    left3 = left.agg(['max','sum','mean','min']).drop('GC',axis = 1)\n",
        "    right3 = right.agg(['max','sum','mean','min']).drop('GC',axis = 1)\n",
        "    print(left3)    \n",
        "    print(right3)\n",
        "    #AP-impulse,Mean Peak propulsion,PPratioを算出\n",
        "    \n",
        "    left4 = left2.query(' 0 < LtFx2').agg(['max','sum','mean']).drop(['GC','LtFz2'],axis = 1)\n",
        "    right4 = right2.query(' 0 < RtFx2').agg(['max','sum','mean']).drop(['GC','RtFz2'],axis = 1)\n",
        "    print(left4)\n",
        "    print(right4)\n",
        "    \n",
        "\n",
        "    \n",
        "    \n",
        "    #left_list.append(left)\n",
        "    #right_list.append(right)"
      ],
      "execution_count": 123,
      "outputs": [
        {
          "output_type": "stream",
          "name": "stdout",
          "text": [
            "       0 nt(%) 総合Fz(Ave) 総合Fz(SD)  ... 右(sd) 総合(ave) 総合(sd)      filename\n",
            "0      1     0   61.6515  36.2303  ...   NaN     NaN    NaN  1-6.xlsx.csv\n",
            "1      2     1   65.4648  34.9689  ...  9.94   37.06   7.78  1-6.xlsx.csv\n",
            "2      3     2   68.2578  33.2612  ...  5.67   35.29  10.78  1-6.xlsx.csv\n",
            "3      4     3   70.8327   31.884  ...  1.94    71.8   7.97  1-6.xlsx.csv\n",
            "4      5     4    73.952  31.6633  ...  1.61   62.82   1.74  1-6.xlsx.csv\n",
            "..   ...   ...       ...      ...  ...   ...     ...    ...           ...\n",
            "199  200    96   81.6405  38.2583  ...   NaN     NaN    NaN  1-6.xlsx.csv\n",
            "200  201    97     79.47  38.1096  ...   NaN     NaN    NaN  1-6.xlsx.csv\n",
            "201  202    98   77.4116  37.9229  ...   NaN     NaN    NaN  1-6.xlsx.csv\n",
            "202  203    99   75.4596  37.8272  ...   NaN     NaN    NaN  1-6.xlsx.csv\n",
            "203  204   100   73.7072  37.9122  ...   NaN     NaN    NaN  1-6.xlsx.csv\n",
            "\n",
            "[204 rows x 29 columns]\n",
            "             LtFz       LtFx\n",
            "max    102.139100   7.105100\n",
            "sum   8044.495100  65.236500\n",
            "mean    79.648466   0.645906\n",
            "min      7.765700  -7.509400\n",
            "            RtFz       RtFx\n",
            "max     87.00330   5.212500\n",
            "sum   6227.72570 -69.893300\n",
            "mean    61.66065  -0.692013\n",
            "min      7.92790  -7.563600\n",
            "           LtFx2\n",
            "max     7.105100\n",
            "sum   225.705900\n",
            "mean    4.606243\n",
            "           RtFx2\n",
            "max     5.212500\n",
            "sum   120.403200\n",
            "mean    2.360847\n"
          ]
        }
      ]
    },
    {
      "cell_type": "code",
      "metadata": {
        "colab": {
          "base_uri": "https://localhost:8080/"
        },
        "id": "oYsolhpfvF9M",
        "outputId": "62b5525e-098e-486d-ce77-be7c8f8e7595"
      },
      "source": [
        ""
      ],
      "execution_count": 13,
      "outputs": [
        {
          "output_type": "stream",
          "name": "stdout",
          "text": [
            "[       0 nt(%) 総合Fz(Ave) 総合Fz(SD)  ... 右(sd) 総合(ave) 総合(sd)      filename\n",
            "0      1     0   61.6515  36.2303  ...   NaN     NaN    NaN  1-6.xlsx.csv\n",
            "1      2     1   65.4648  34.9689  ...  9.94   37.06   7.78  1-6.xlsx.csv\n",
            "2      3     2   68.2578  33.2612  ...  5.67   35.29  10.78  1-6.xlsx.csv\n",
            "3      4     3   70.8327   31.884  ...  1.94    71.8   7.97  1-6.xlsx.csv\n",
            "4      5     4    73.952  31.6633  ...  1.61   62.82   1.74  1-6.xlsx.csv\n",
            "..   ...   ...       ...      ...  ...   ...     ...    ...           ...\n",
            "199  200    96   81.6405  38.2583  ...   NaN     NaN    NaN  1-6.xlsx.csv\n",
            "200  201    97     79.47  38.1096  ...   NaN     NaN    NaN  1-6.xlsx.csv\n",
            "201  202    98   77.4116  37.9229  ...   NaN     NaN    NaN  1-6.xlsx.csv\n",
            "202  203    99   75.4596  37.8272  ...   NaN     NaN    NaN  1-6.xlsx.csv\n",
            "203  204   100   73.7072  37.9122  ...   NaN     NaN    NaN  1-6.xlsx.csv\n",
            "\n",
            "[204 rows x 29 columns]]\n"
          ]
        }
      ]
    },
    {
      "cell_type": "code",
      "metadata": {
        "id": "O071a21dqweG"
      },
      "source": [
        "\n",
        "#listを列方向に結合（axis=1）    \n",
        "left_df = pd.concat(left_list, axis=1)\n",
        "right_df = pd.concat(right_list, axis=1)\n",
        "\n",
        "left_df2 = left_df[['value']]\n",
        "right_df2 = right_df[['value']]\n",
        "\n",
        "name = left_df2.tail(1)\n",
        "\n",
        "name.to_csv(\"name.csv\")\n",
        "\n",
        "left_df3 = left_df2.head(1200)\n",
        "right_df3 = right_df2.head(1200)\n",
        "\n",
        "left_df4 = left_df3.astype('float64')\n",
        "right_df4 = right_df3.astype('float64')\n",
        "\n",
        "subtraction =left_df4.sub(right_df4, axis='index')\n",
        "mean = (left_df4 + right_df4)/2\n",
        "\n",
        "left_df4.to_csv(\"left.csv\")\n",
        "right_df4.to_csv(\"right.csv\")\n",
        "subtraction.to_csv(\"subtraction.csv\")\n",
        "mean.to_csv(\"mean.csv\")\n",
        "\n",
        "\n",
        "df2 = pd.concat([left_df4, right_df4, subtraction, mean])\n",
        "df3 = df2[['value']]\n",
        "df3.to_csv(\"result.csv\") "
      ],
      "execution_count": null,
      "outputs": []
    },
    {
      "cell_type": "code",
      "metadata": {
        "id": "WgCzNgcuYtmO"
      },
      "source": [
        ""
      ],
      "execution_count": null,
      "outputs": []
    }
  ]
}
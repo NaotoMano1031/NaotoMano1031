{
  "nbformat": 4,
  "nbformat_minor": 0,
  "metadata": {
    "colab": {
      "name": "GRF_Report.ipynb",
      "provenance": [],
      "mount_file_id": "1NwoGpyTDKuFZbnI5RGbo8dra8iUi5ApR",
      "authorship_tag": "ABX9TyOMgyCCSA6W6v7sDiBzLva9",
      "include_colab_link": true
    },
    "kernelspec": {
      "name": "python3",
      "display_name": "Python 3"
    },
    "language_info": {
      "name": "python"
    }
  },
  "cells": [
    {
      "cell_type": "markdown",
      "metadata": {
        "id": "view-in-github",
        "colab_type": "text"
      },
      "source": [
        "<a href=\"https://colab.research.google.com/github/NaotoMano1031/NaotoMano1031/blob/main/GRF_Report.ipynb\" target=\"_parent\"><img src=\"https://colab.research.google.com/assets/colab-badge.svg\" alt=\"Open In Colab\"/></a>"
      ]
    },
    {
      "cell_type": "markdown",
      "metadata": {
        "id": "nLhu-jefmjGQ"
      },
      "source": [
        "#床反力データを1枚にまとめる\n",
        "Step1　各シートを読み込む"
      ]
    },
    {
      "cell_type": "code",
      "metadata": {
        "id": "IR5pxlujZ8Ok",
        "colab": {
          "base_uri": "https://localhost:8080/"
        },
        "outputId": "71dd6569-0b3a-42fc-aee5-f8e9778cbab5"
      },
      "source": [
        "import glob\n",
        "import os\n",
        "import pandas as pd\n",
        "import numpy as np\n",
        "\n",
        "\n",
        "\n",
        "files = glob.glob('/content/drive/MyDrive/床反力集約値/*/*/PeakFz.csv')#読み込みたいフォルダのディレクトリを指定#ファイルネームを変える\n",
        "print(files)    \n",
        "left_list = []\n",
        "for a in files:\n",
        "    df = pd.read_csv(a)\n",
        "    left_list.append(df)\n",
        "    print(left_list)\n",
        "merge = pd.concat(left_list).drop(df.columns[0],axis=1)\n",
        "df2 = merge.set_axis(['RGSD','LGSD','RSHB','LSHB','LWithout','RWithout'],axis=0)\n",
        "df3 = df2.fillna('None')\n",
        "right = df3.query('RtFz != \"None\"').iloc[:3,0:31].T#Fx2にたまに変える必要あり\n",
        "#left = df3.query('LtFx != \"None\"').iloc[:3,62:93].T #Brakingのときのみこっち\n",
        "left = df3.query('LtFz != \"None\"').iloc[:3,31:62].T\n",
        "print(left)\n",
        "right.to_csv(\"RtPeakFz.csv\")#ファイル名はここで変える\n",
        "left.to_csv(\"LtPeakFz.csv\")\n"
      ],
      "execution_count": null,
      "outputs": [
        {
          "output_type": "stream",
          "name": "stdout",
          "text": [
            "['/content/drive/MyDrive/床反力集約値/GSD/Rt_Result/PeakFz.csv', '/content/drive/MyDrive/床反力集約値/GSD/Lt_Result/PeakFz.csv', '/content/drive/MyDrive/床反力集約値/SHB/Rt_Result/PeakFz.csv', '/content/drive/MyDrive/床反力集約値/SHB/Lt_Result/PeakFz.csv', '/content/drive/MyDrive/床反力集約値/Without/Lt_Result/PeakFz.csv', '/content/drive/MyDrive/床反力集約値/Without/Rt_Result/PeakFz.csv']\n",
            "[  Unnamed: 0      RtFz    RtFz.1   RtFz.2  ...  RtFz.27  RtFz.28  RtFz.29   RtFz.30\n",
            "0        max  112.8855  111.5456  92.0474  ...  99.1238   92.445  97.0435  100.6859\n",
            "\n",
            "[1 rows x 32 columns]]\n",
            "[  Unnamed: 0      RtFz    RtFz.1   RtFz.2  ...  RtFz.27  RtFz.28  RtFz.29   RtFz.30\n",
            "0        max  112.8855  111.5456  92.0474  ...  99.1238   92.445  97.0435  100.6859\n",
            "\n",
            "[1 rows x 32 columns],   Unnamed: 0      LtFz    LtFz.1  ...   LtFz.28   LtFz.29  LtFz.30\n",
            "0        max  114.1255  107.6608  ...  102.6396  105.8336  87.3061\n",
            "\n",
            "[1 rows x 32 columns]]\n",
            "[  Unnamed: 0      RtFz    RtFz.1   RtFz.2  ...  RtFz.27  RtFz.28  RtFz.29   RtFz.30\n",
            "0        max  112.8855  111.5456  92.0474  ...  99.1238   92.445  97.0435  100.6859\n",
            "\n",
            "[1 rows x 32 columns],   Unnamed: 0      LtFz    LtFz.1  ...   LtFz.28   LtFz.29  LtFz.30\n",
            "0        max  114.1255  107.6608  ...  102.6396  105.8336  87.3061\n",
            "\n",
            "[1 rows x 32 columns],   Unnamed: 0      RtFz    RtFz.1   RtFz.2  ...   RtFz.27  RtFz.28  RtFz.29   RtFz.30\n",
            "0        max  113.9297  108.4768  93.6495  ...  107.9852  95.9201  99.5038  100.1873\n",
            "\n",
            "[1 rows x 32 columns]]\n",
            "[  Unnamed: 0      RtFz    RtFz.1   RtFz.2  ...  RtFz.27  RtFz.28  RtFz.29   RtFz.30\n",
            "0        max  112.8855  111.5456  92.0474  ...  99.1238   92.445  97.0435  100.6859\n",
            "\n",
            "[1 rows x 32 columns],   Unnamed: 0      LtFz    LtFz.1  ...   LtFz.28   LtFz.29  LtFz.30\n",
            "0        max  114.1255  107.6608  ...  102.6396  105.8336  87.3061\n",
            "\n",
            "[1 rows x 32 columns],   Unnamed: 0      RtFz    RtFz.1   RtFz.2  ...   RtFz.27  RtFz.28  RtFz.29   RtFz.30\n",
            "0        max  113.9297  108.4768  93.6495  ...  107.9852  95.9201  99.5038  100.1873\n",
            "\n",
            "[1 rows x 32 columns],   Unnamed: 0      LtFz    LtFz.1  ...   LtFz.28   LtFz.29  LtFz.30\n",
            "0        max  112.2268  116.8303  ...  105.6178  104.8398  84.3193\n",
            "\n",
            "[1 rows x 32 columns]]\n",
            "[  Unnamed: 0      RtFz    RtFz.1   RtFz.2  ...  RtFz.27  RtFz.28  RtFz.29   RtFz.30\n",
            "0        max  112.8855  111.5456  92.0474  ...  99.1238   92.445  97.0435  100.6859\n",
            "\n",
            "[1 rows x 32 columns],   Unnamed: 0      LtFz    LtFz.1  ...   LtFz.28   LtFz.29  LtFz.30\n",
            "0        max  114.1255  107.6608  ...  102.6396  105.8336  87.3061\n",
            "\n",
            "[1 rows x 32 columns],   Unnamed: 0      RtFz    RtFz.1   RtFz.2  ...   RtFz.27  RtFz.28  RtFz.29   RtFz.30\n",
            "0        max  113.9297  108.4768  93.6495  ...  107.9852  95.9201  99.5038  100.1873\n",
            "\n",
            "[1 rows x 32 columns],   Unnamed: 0      LtFz    LtFz.1  ...   LtFz.28   LtFz.29  LtFz.30\n",
            "0        max  112.2268  116.8303  ...  105.6178  104.8398  84.3193\n",
            "\n",
            "[1 rows x 32 columns],   Unnamed: 0      LtFz    LtFz.1  ...   LtFz.28   LtFz.29  LtFz.30\n",
            "0        max  110.8645  100.6097  ...  102.1392  105.3888  86.4637\n",
            "\n",
            "[1 rows x 32 columns]]\n",
            "[  Unnamed: 0      RtFz    RtFz.1   RtFz.2  ...  RtFz.27  RtFz.28  RtFz.29   RtFz.30\n",
            "0        max  112.8855  111.5456  92.0474  ...  99.1238   92.445  97.0435  100.6859\n",
            "\n",
            "[1 rows x 32 columns],   Unnamed: 0      LtFz    LtFz.1  ...   LtFz.28   LtFz.29  LtFz.30\n",
            "0        max  114.1255  107.6608  ...  102.6396  105.8336  87.3061\n",
            "\n",
            "[1 rows x 32 columns],   Unnamed: 0      RtFz    RtFz.1   RtFz.2  ...   RtFz.27  RtFz.28  RtFz.29   RtFz.30\n",
            "0        max  113.9297  108.4768  93.6495  ...  107.9852  95.9201  99.5038  100.1873\n",
            "\n",
            "[1 rows x 32 columns],   Unnamed: 0      LtFz    LtFz.1  ...   LtFz.28   LtFz.29  LtFz.30\n",
            "0        max  112.2268  116.8303  ...  105.6178  104.8398  84.3193\n",
            "\n",
            "[1 rows x 32 columns],   Unnamed: 0      LtFz    LtFz.1  ...   LtFz.28   LtFz.29  LtFz.30\n",
            "0        max  110.8645  100.6097  ...  102.1392  105.3888  86.4637\n",
            "\n",
            "[1 rows x 32 columns],   Unnamed: 0      RtFz    RtFz.1  ...  RtFz.28   RtFz.29   RtFz.30\n",
            "0        max  101.4538  111.2443  ...  94.9559  101.1731  102.4408\n",
            "\n",
            "[1 rows x 32 columns]]\n",
            "            LGSD     LSHB LWithout\n",
            "LtFz     114.126  112.227  110.865\n",
            "LtFz.1   107.661   116.83   100.61\n",
            "LtFz.2   115.346  113.944  110.038\n",
            "LtFz.3   104.381  103.204   103.78\n",
            "LtFz.4   101.937  103.318   101.72\n",
            "LtFz.5   98.3801  98.9005   95.808\n",
            "LtFz.6   90.3926  88.9907  90.3642\n",
            "LtFz.7   85.3012  84.0751  86.2738\n",
            "LtFz.8   120.617  122.746  122.407\n",
            "LtFz.9   94.9185  93.9976  93.9866\n",
            "LtFz.10  87.6579  85.5148  88.8734\n",
            "LtFz.11  102.139  102.643  102.412\n",
            "LtFz.12  96.3926  97.8699    96.72\n",
            "LtFz.13  107.002  105.814  104.695\n",
            "LtFz.14  104.509  99.6211  99.6391\n",
            "LtFz.15  105.536  103.355  103.842\n",
            "LtFz.16  87.9581   88.316   83.225\n",
            "LtFz.17  99.5478  99.8232  106.552\n",
            "LtFz.18  104.868  105.957  102.627\n",
            "LtFz.19  101.181   100.39  100.299\n",
            "LtFz.20  101.857  98.4295  99.6831\n",
            "LtFz.21  97.4537  99.8363  102.307\n",
            "LtFz.22  96.1879  93.6685  95.8227\n",
            "LtFz.23  101.601  102.607  100.144\n",
            "LtFz.24  102.238  104.795   103.62\n",
            "LtFz.25  92.4089  92.7015  92.6568\n",
            "LtFz.26  91.4384  90.3795  93.5357\n",
            "LtFz.27   101.96  104.836  107.544\n",
            "LtFz.28   102.64  105.618  102.139\n",
            "LtFz.29  105.834   104.84  105.389\n",
            "LtFz.30  87.3061  84.3193  86.4637\n"
          ]
        }
      ]
    },
    {
      "cell_type": "markdown",
      "metadata": {
        "id": "89B7gKdtLywY"
      },
      "source": [
        "Step 2 全ての結果を集約"
      ]
    },
    {
      "cell_type": "code",
      "metadata": {
        "id": "nIjPcGYgaEBO",
        "colab": {
          "base_uri": "https://localhost:8080/"
        },
        "outputId": "c7db8282-0a6d-421d-eb54-e947d85d5f65"
      },
      "source": [
        "files = glob.glob('/content/*.csv')#読み込みたいフォルダのディレクトリを指定#ファイルネームを変える\n",
        "print(files)\n",
        "data_list = ['name']\n",
        "right_list = []\n",
        "for a in files:\n",
        "    df = pd.read_csv(a).T\n",
        "    data_list.append(os.path.basename(a).split('.',1)[0]) \n",
        "    df['filename'] = os.path.basename(a).split('.',1)[0]    \n",
        "    right_list.append(df)\n",
        "\n",
        "merge = pd.concat(right_list).drop('Unnamed: 0',axis = 0).replace('None','0')\n",
        "merge.to_excel(\"GRF_Report.xlsx\")\n"
      ],
      "execution_count": 138,
      "outputs": [
        {
          "output_type": "stream",
          "name": "stdout",
          "text": [
            "['/content/LtImpulsePropulsion.csv', '/content/RtAPimpulse.csv', '/content/RtImpulsePropulsion.csv', '/content/LtMeanFz.csv', '/content/LtPeakBraking.csv', '/content/LtAPimpulse.csv', '/content/LtPeakFz.csv', '/content/LtPeakPropulsion.csv', '/content/RtPeakBraking.csv', '/content/RtPeakFz.csv', '/content/LtMeanPropulsion.csv', '/content/id.csv', '/content/RtMeanFz.csv', '/content/RtMeanPropulsion.csv', '/content/RtPeakPropulsion.csv']\n"
          ]
        }
      ]
    }
  ]
}
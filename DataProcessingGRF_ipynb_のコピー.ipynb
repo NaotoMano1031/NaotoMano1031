{
  "nbformat": 4,
  "nbformat_minor": 0,
  "metadata": {
    "kernelspec": {
      "display_name": "Python 3",
      "language": "python",
      "name": "python3"
    },
    "language_info": {
      "codemirror_mode": {
        "name": "ipython",
        "version": 3
      },
      "file_extension": ".py",
      "mimetype": "text/x-python",
      "name": "python",
      "nbconvert_exporter": "python",
      "pygments_lexer": "ipython3",
      "version": "3.7.6"
    },
    "colab": {
      "name": "DataProcessingGRF.ipynb のコピー",
      "provenance": [],
      "include_colab_link": true
    }
  },
  "cells": [
    {
      "cell_type": "markdown",
      "metadata": {
        "id": "view-in-github",
        "colab_type": "text"
      },
      "source": [
        "<a href=\"https://colab.research.google.com/github/NaotoMano1031/NaotoMano1031/blob/main/DataProcessingGRF_ipynb_%E3%81%AE%E3%82%B3%E3%83%94%E3%83%BC.ipynb\" target=\"_parent\"><img src=\"https://colab.research.google.com/assets/colab-badge.svg\" alt=\"Open In Colab\"/></a>"
      ]
    },
    {
      "cell_type": "markdown",
      "metadata": {
        "id": "Uh7k9Wu4bx7b"
      },
      "source": [
        "#GAIT_Sample作成のための床反力データの抽出\n",
        "\n",
        "事前準備:フォルダに必要なファイルが全て入っているようにする\n",
        "\n",
        "参考サイト:https://note.nkmk.me/\n",
        "\n"
      ]
    },
    {
      "cell_type": "markdown",
      "metadata": {
        "id": "LrShi2jYcQSV"
      },
      "source": [
        "Step 1 ファイルの抽出\n"
      ]
    },
    {
      "cell_type": "code",
      "metadata": {
        "colab": {
          "base_uri": "https://localhost:8080/"
        },
        "id": "IVCmCMvUbwoV",
        "outputId": "6292ab20-81f7-4d03-8600-056bde97e1f9"
      },
      "source": [
        "import glob\n",
        "import os\n",
        "import pandas as pd\n",
        "import numpy as np\n",
        "\n",
        "\n",
        "#読み込みたいフォルダのディレクトリを指定\n",
        "excel_files = glob.glob('/content/*.xlsx')\n",
        "print(excel_files)\n",
        "\n",
        "#読み込みたいシート名を選択\n",
        "for b in excel_files:\n",
        "    excel_df = pd.read_excel(b,sheet_name='GSD')#明示的に\n",
        "    excel_df.to_csv(f'{b}.csv',header=False) \n",
        "\n",
        "    \n",
        "files = glob.glob('/content/*.csv')\n",
        "print(files)"
      ],
      "execution_count": 4,
      "outputs": [
        {
          "output_type": "stream",
          "name": "stdout",
          "text": [
            "['/content/2-8.xlsx', '/content/2-7.xlsx', '/content/2-2.xlsx', '/content/2-6.xlsx']\n",
            "['/content/2-7.xlsx.csv', '/content/2-8.xlsx.csv', '/content/2-2.xlsx.csv', '/content/2-6.xlsx.csv']\n"
          ]
        }
      ]
    },
    {
      "cell_type": "markdown",
      "metadata": {
        "id": "R2vpwn6hqgmF"
      },
      "source": [
        "Step 2 必要な値の計算と抽出"
      ]
    },
    {
      "cell_type": "code",
      "metadata": {
        "colab": {
          "base_uri": "https://localhost:8080/"
        },
        "id": "-fqvre4RYtmK",
        "outputId": "1f5d7ed4-a170-4cc3-f969-5df2856206a7"
      },
      "source": [
        "#空のリストを準備\n",
        "data_list = ['id']\n",
        "left_list = []\n",
        "right_list = []\n",
        "\n",
        "for a in files:\n",
        "    df = pd.read_csv(a)\n",
        "    data_list.append(os.path.basename(a).split('.',1)[0]) \n",
        "    df['filename'] = os.path.basename(a).split('.',1)[0]\n",
        "    \n",
        "    #Braking and AP impulse算出用(立脚期全体を抽出)\n",
        "    #1行目が揃っていないデータがあればエラーが出ます\n",
        "    left = pd.DataFrame(df.loc[0:100, ['nt(%)','左Fz(Ave)','左Fx(Ave)','filename']])\\\n",
        "    .astype({'nt(%)':float,'左Fz(Ave)':float,'左Fx(Ave)':float,})\\\n",
        "    .rename(columns= {'nt(%)': 'GC','左Fz(Ave)':'LtFz','左Fx(Ave)':'LtFx'})\n",
        "\n",
        "    right = pd.DataFrame(df.loc[103:203, ['nt(%)','右Fz(Ave)','右Fx(Ave)','filename']])\\\n",
        "    .astype({'nt(%)':float,'右Fz(Ave)':float,'右Fx(Ave)':float,})\\\n",
        "    .rename(columns= {'nt(%)': 'GC','右Fz(Ave)':'RtFz','右Fx(Ave)':'RtFx'})\n",
        "    \n",
        "    left = left.query('-1 < GC < 101 ')\n",
        "    right = right.query('-1 < GC < 101 ')\n",
        "    \n",
        "    #Mean,Impulse,Peak Propulsion算出用(立脚期0-20%を除去)\n",
        "    left2 = left.query('19 < GC < 101 ').rename(columns= {'LtFz':'LtFz2','LtFx':'LtFx2'})\n",
        "    right2 = right.query('19 < GC < 101 ').rename(columns= {'RtFz':'RtFz2','RtFx':'RtFx2'})\n",
        "\n",
        "    #Mean Fz,Peak Braking,Fzを算出\n",
        "    left3 = left.agg(['max','sum','mean','min']).drop('GC',axis = 1)\n",
        "    right3 = right.agg(['max','sum','mean','min']).drop('GC',axis = 1)\n",
        "\n",
        "    #AP-impulse,Mean Peak propulsion,PPratioを算出\n",
        "    left4 = left2.query(' 0 < LtFx2').agg(['max','sum','mean']).drop(['GC','LtFz2','filename'],axis = 1)\n",
        "    right4 = right2.query(' 0 < RtFx2').agg(['max','sum','mean']).drop(['GC','RtFz2','filename'],axis = 1)\n",
        "      \n",
        "    left5 = pd.concat([left3,left4],axis = 1)\n",
        "    right5 = pd.concat([right3,right4],axis = 1)\n",
        "\n",
        "    left_list.append(left5)\n",
        "    right_list.append(right5)\n",
        "    print(data_list)\n",
        "\n",
        "    "
      ],
      "execution_count": 5,
      "outputs": [
        {
          "output_type": "stream",
          "name": "stdout",
          "text": [
            "['id', '2-7']\n",
            "['id', '2-7', '2-8']\n",
            "['id', '2-7', '2-8', '2-2']\n",
            "['id', '2-7', '2-8', '2-2', '2-6']\n"
          ]
        }
      ]
    },
    {
      "cell_type": "markdown",
      "metadata": {
        "id": "OCiqpW9F5huk"
      },
      "source": [
        "Step 3 抽出されたデータを全てまとめ、書き出し"
      ]
    },
    {
      "cell_type": "code",
      "metadata": {
        "id": "oYsolhpfvF9M"
      },
      "source": [
        "#今までのデータをまとめる\n",
        "left_df = pd.concat(left_list,axis = 1).sort_index(axis = 1)\n",
        "right_df = pd.concat(right_list, axis=1).sort_index(axis = 1)\n",
        "\n",
        "name = pd.DataFrame(data_list)\n",
        "\n",
        "#ここから書き出し\n",
        "#麻痺側の判別はしていないためPareticPropulsionは別に算出が必要\n",
        "import pathlib\n",
        "pathlib.Path('Rt_result').mkdir()\n",
        "os.chdir('Rt_result')\n",
        "right_df.loc[['min'],['RtFx','filename']].to_csv('PeakBraking.csv')\n",
        "right_df.loc[['max'],['RtFz']].to_csv('PeakFz.csv')\n",
        "right_df.loc[['mean'],['RtFz']].to_csv('MeanFz.csv')\n",
        "right_df.loc[['sum'],['RtFx']].to_csv('APimpulse.csv')\n",
        "right_df.loc[['max'],['RtFx2']].to_csv('PeakPropulsion.csv')\n",
        "right_df.loc[['mean'],['RtFx2']].to_csv('MeanPropulsion.csv')\n",
        "right_df.loc[['sum'],['RtFx2']].to_csv('ImpulsePropulsion.csv')\n",
        "name.to_csv(\"id.csv\")\n",
        "\n",
        "pathlib.Path('Lt_result').mkdir()\n",
        "os.chdir('Lt_result')\n",
        "left_df.loc[['min'],['LtFx','filename']].to_csv('PeakBraking.csv')\n",
        "left_df.loc[['max'],['LtFz']].to_csv('PeakFz.csv')\n",
        "left_df.loc[['mean'],['LtFz']].to_csv('MeanFz.csv')\n",
        "left_df.loc[['sum'],['LtFx']].to_csv('APimpulse.csv')\n",
        "left_df.loc[['max'],['LtFx2']].to_csv('PeakPropulsion.csv')\n",
        "left_df.loc[['mean'],['LtFx2']].to_csv('MeanPropulsion.csv')\n",
        "left_df.loc[['mean'],['LtFx2']].to_csv('ImpulsePropulsion.csv')\n",
        "name.to_csv(\"id.csv\")"
      ],
      "execution_count": 7,
      "outputs": []
    }
  ]
}